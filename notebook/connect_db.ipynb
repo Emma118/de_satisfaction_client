{
 "cells": [
  {
   "cell_type": "code",
   "execution_count": null,
   "metadata": {},
   "outputs": [],
   "source": [
    "import pandas as pd\n",
    "import numpy as np\n",
    "%load_ext sql\n",
    "%config SqlMagic.displaycon = False\n",
    "%config SqlMagic.feedback = False\n",
    "%config SqlMagic.displaylimit = 50\n",
    "%sql sqlite:///chinook.db\n",
    "\n"
   ]
  },
  {
   "cell_type": "code",
   "execution_count": 2,
   "metadata": {},
   "outputs": [
    {
     "data": {
      "text/html": [
       "<div>\n",
       "<style scoped>\n",
       "    .dataframe tbody tr th:only-of-type {\n",
       "        vertical-align: middle;\n",
       "    }\n",
       "\n",
       "    .dataframe tbody tr th {\n",
       "        vertical-align: top;\n",
       "    }\n",
       "\n",
       "    .dataframe thead th {\n",
       "        text-align: right;\n",
       "    }\n",
       "</style>\n",
       "<table border=\"1\" class=\"dataframe\">\n",
       "  <thead>\n",
       "    <tr style=\"text-align: right;\">\n",
       "      <th></th>\n",
       "      <th>company_name</th>\n",
       "      <th>town</th>\n",
       "      <th>country</th>\n",
       "      <th>institution_type</th>\n",
       "      <th>review</th>\n",
       "      <th>trust_score</th>\n",
       "      <th>five_star_%</th>\n",
       "    </tr>\n",
       "  </thead>\n",
       "  <tbody>\n",
       "    <tr>\n",
       "      <th>0</th>\n",
       "      <td>Evergreen Credit Union</td>\n",
       "      <td>Portland</td>\n",
       "      <td>United States</td>\n",
       "      <td>ATM</td>\n",
       "      <td>317</td>\n",
       "      <td>4.9</td>\n",
       "      <td>96%</td>\n",
       "    </tr>\n",
       "    <tr>\n",
       "      <th>1</th>\n",
       "      <td>Liberty First Credit Union</td>\n",
       "      <td>Lincoln</td>\n",
       "      <td>United States</td>\n",
       "      <td>Car Finance and Loan Company</td>\n",
       "      <td>290</td>\n",
       "      <td>4.7</td>\n",
       "      <td>92%</td>\n",
       "    </tr>\n",
       "    <tr>\n",
       "      <th>2</th>\n",
       "      <td>GoHenry by Acorns</td>\n",
       "      <td>Irvine</td>\n",
       "      <td>United States</td>\n",
       "      <td>Non-Bank Financial Service</td>\n",
       "      <td>3,173</td>\n",
       "      <td>4.3</td>\n",
       "      <td>66%</td>\n",
       "    </tr>\n",
       "    <tr>\n",
       "      <th>3</th>\n",
       "      <td>Crypto Dispensers</td>\n",
       "      <td>Chicago</td>\n",
       "      <td>United States</td>\n",
       "      <td>Money Transfer Service</td>\n",
       "      <td>169</td>\n",
       "      <td>3.9</td>\n",
       "      <td>60%</td>\n",
       "    </tr>\n",
       "    <tr>\n",
       "      <th>4</th>\n",
       "      <td>Swadesh</td>\n",
       "      <td>San Francisco</td>\n",
       "      <td>United States</td>\n",
       "      <td>Financial Institution</td>\n",
       "      <td>10</td>\n",
       "      <td>4.4</td>\n",
       "      <td>100%</td>\n",
       "    </tr>\n",
       "  </tbody>\n",
       "</table>\n",
       "</div>"
      ],
      "text/plain": [
       "                 company_name           town         country  \\\n",
       "0      Evergreen Credit Union       Portland   United States   \n",
       "1  Liberty First Credit Union        Lincoln   United States   \n",
       "2           GoHenry by Acorns         Irvine   United States   \n",
       "3           Crypto Dispensers        Chicago   United States   \n",
       "4                     Swadesh  San Francisco   United States   \n",
       "\n",
       "               institution_type review  trust_score five_star_%  \n",
       "0                           ATM    317          4.9         96%  \n",
       "1  Car Finance and Loan Company    290          4.7         92%  \n",
       "2    Non-Bank Financial Service  3,173          4.3         66%  \n",
       "3        Money Transfer Service    169          3.9         60%  \n",
       "4         Financial Institution     10          4.4        100%  "
      ]
     },
     "execution_count": 2,
     "metadata": {},
     "output_type": "execute_result"
    }
   ],
   "source": [
    "df_enterprises = pd.read_csv(\"D:\\PROFIL\\BCRK1417\\Documents\\Parcours_FEST\\work\\codes\\de_satisfaction_client\\data\\df_enterprises.csv\", sep='|')\n",
    "df_enterprises.head()"
   ]
  },
  {
   "cell_type": "code",
   "execution_count": 3,
   "metadata": {},
   "outputs": [
    {
     "name": "stderr",
     "output_type": "stream",
     "text": [
      "UsageError: Cell magic `%%sql` not found.\n"
     ]
    }
   ],
   "source": [
    "%%sql\n",
    "\n",
    "CREATE TABLE companies (\n",
    "    id INTEGER , \n",
    "    company_name VARCHAR,\n",
    "    town VARCHAR,\n",
    "    country VARCHAR,\n",
    "    institution_type VARCHAR,\n",
    "    review INTEGER,\n",
    "    trustscore DOUBLE,\n",
    "    five_star_percent  DOUBLE,\n",
    "    PRIMARY KEY (id)\n",
    ");"
   ]
  },
  {
   "cell_type": "code",
   "execution_count": null,
   "metadata": {},
   "outputs": [],
   "source": []
  }
 ],
 "metadata": {
  "kernelspec": {
   "display_name": "Python 3",
   "language": "python",
   "name": "python3"
  },
  "language_info": {
   "codemirror_mode": {
    "name": "ipython",
    "version": 3
   },
   "file_extension": ".py",
   "mimetype": "text/x-python",
   "name": "python",
   "nbconvert_exporter": "python",
   "pygments_lexer": "ipython3",
   "version": "3.9.6"
  }
 },
 "nbformat": 4,
 "nbformat_minor": 2
}
